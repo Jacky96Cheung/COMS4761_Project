{
 "cells": [
  {
   "cell_type": "code",
   "execution_count": 1,
   "metadata": {
    "collapsed": true
   },
   "outputs": [],
   "source": [
    "import os"
   ]
  },
  {
   "cell_type": "code",
   "execution_count": 2,
   "metadata": {
    "collapsed": true
   },
   "outputs": [],
   "source": [
    "'''\n",
    "Function that runs kallisto to index reference file\n",
    "fastq: fastq or fastq.gz file to be indexed for kallisto alignment\n",
    "output: name of desired output file\n",
    "'''\n",
    "def index_transcriptome(fastq, output):\n",
    "    command = \"kallisto index -i \" + output_name + \" \" + file_name\n",
    "    os.system(command)"
   ]
  },
  {
   "cell_type": "code",
<<<<<<< HEAD
   "execution_count": 3,
=======
   "execution_count": 32,
>>>>>>> 5c9208206f93d25de4a5f7f8e8968ce4db755296
   "metadata": {
    "collapsed": true
   },
   "outputs": [],
   "source": [
    "'''\n",
    "Runs the kallisto quantification data on \n",
    "path: path to where all the RNAseq data is kept\n",
    "metadata: file containing on each line a file name, stimulus, and group delimited by a space\n",
    "index: the reference index being used\n",
    "'''\n",
    "def mass_alignments(RNAseq_path, output_path, metadata, index):\n",
    "    # Reads through metadata to get files necessary for alignment\n",
    "    with open(metadata) as f:\n",
    "        for line in f:\n",
    "            \n",
    "            # Parse each line with the space as delimiter\n",
    "            file_stim_group = line.split(\" \")\n",
    "            # Ignores commentted out lines in metadata (i.e. first line)\n",
    "            if line[0] is '>':\n",
    "                continue\n",
    "            \n",
    "            # Make a directory for output files to go\n",
    "            directory = output_path + \"/\" + file_stim_group[1] + \"_\" + file_stim_group[2].strip()\n",
    "            os.system(\"rm -r \" + directory)\n",
    "            os.system(\"mkdir \" + directory)\n",
    "            \n",
    "            # Files of the reads to be align\n",
    "            read1 = RNAseq_path + \"/\" + file_stim_group[0] + \"/trimmomatic_output/\" + \"trimmomatic_output_L001_1P.fastq\"\n",
    "            read2 = RNAseq_path + \"/\" + file_stim_group[0] + \"/trimmomatic_output/\" + \"trimmomatic_output_L001_2P.fastq\"\n",
    "            \n",
    "            # Run kallisto to generate quantification and put into above directory, bootstapping value = 100\n",
    "            command = \"kallisto quant -i \" + index + \" -o \" + directory + \" -b 100 \" + read1 + \" \" + read2\n",
    "            os.system(command)          \n",
    "                \n",
    "                "
   ]
  },
  {
   "cell_type": "code",
   "execution_count": 4,
   "metadata": {
    "collapsed": true
   },
   "outputs": [],
   "source": [
    "RNAseq_path = \"/Volumes/Seagate\\ Backup\\ Plus\\ Drive/PHOSPHOTRAP\\ RNASEQ/K_SMARTBULK_pS6NSTPOOL_RUN001\"\n",
    "output_path = \"/Users/jackycheung/Desktop/Coursework/Computational_Genomics/COMS4761_Project\"\n",
    "metadata = \"/Users/jackycheung/Desktop/Coursework/Computational_Genomics/COMS4761_Project/metadata.txt\"\n",
    "index = \"/Users/jackycheung/Desktop/Coursework/Computational_Genomics/COMS4761_Project/mouse_cDNA.idx\"\n",
    "\n",
    "mass_alignments(RNAseq_path, output_path, metadata, index)"
   ]
  },
  {
   "cell_type": "code",
   "execution_count": null,
   "metadata": {
    "collapsed": true
   },
   "outputs": [],
   "source": [
    "K_SMARTBULK_pS6NST001_RUN001_S1_L001_R2_001.fastq.gz"
   ]
  }
 ],
 "metadata": {
  "kernelspec": {
   "display_name": "Python 3",
   "language": "python",
   "name": "python3"
  },
  "language_info": {
   "codemirror_mode": {
    "name": "ipython",
    "version": 3
   },
   "file_extension": ".py",
   "mimetype": "text/x-python",
   "name": "python",
   "nbconvert_exporter": "python",
   "pygments_lexer": "ipython3",
   "version": "3.6.3"
  }
 },
 "nbformat": 4,
 "nbformat_minor": 2
}
