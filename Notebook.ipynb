{
 "cells": [
  {
   "cell_type": "code",
   "execution_count": 3,
   "metadata": {
    "collapsed": true
   },
   "outputs": [],
   "source": [
    "import os"
   ]
  },
  {
   "cell_type": "code",
   "execution_count": 4,
   "metadata": {
    "collapsed": true
   },
   "outputs": [],
   "source": [
    "'''\n",
    "Function that runs kallisto to index reference file\n",
    "fastq: fastq or fastq.gz file to be indexed for kallisto alignment\n",
    "output: name of desired output file\n",
    "'''\n",
    "def index_transcriptome(fastq, output):\n",
    "    command = \"kallisto index -i \" + output_name + \" \" + file_name\n",
    "    os.system(command)"
   ]
  },
  {
   "cell_type": "code",
   "execution_count": 32,
   "metadata": {
    "collapsed": true
   },
   "outputs": [],
   "source": [
    "'''\n",
    "Runs the kallisto quantification data on \n",
    "path: path to where all the RNAseq data is kept\n",
    "metadata: file containing on each line a file name, stimulus, and group delimited by a space\n",
    "index: the reference index being used\n",
    "'''\n",
    "def mass_alignments(path, metadata, index):\n",
    "    with open(metadata) as f:\n",
    "        files = \"\"\n",
    "        for line in f:\n",
    "            file_stim_group = line.split(\" \")\n",
    "            if line[0] is not '>':\n",
    "                files = files + \" \" + path + \"/\" + file_stim_group[0]\n",
    "                \n",
    "                '''\n",
    "                # Make a directory for output files to go\n",
    "                directory = path + \"/\" + file_stim_group[1] + \"_\" + file_stim_group[2]\n",
    "                os.system(\"mkdir \" + directory)\n",
    "                # Run kallisto to generate quantification and put into above directory \n",
    "                command = \"kallisto quant -i \" + index + \" -o \" + directory + \" \"\n",
    "                os.system(command)\n",
    "                '''\n",
    "        command = \"kallisto quant -i \" + index + \" -o \" + path + \" \" + files\n",
    "        os.system(command)\n",
    "                "
   ]
  },
  {
   "cell_type": "code",
   "execution_count": 31,
   "metadata": {},
   "outputs": [
    {
     "name": "stdout",
     "output_type": "stream",
     "text": [
      "kallisto quant -i index_file -o path///  path////K_SMARTBULK_pS6NST001_RUN001 path////K_SMARTBULK_pS6NST002_RUN001 path////K_SMARTBULK_pS6NST003_RUN001 path////K_SMARTBULK_pS6NST004_RUN001 path////K_SMARTBULK_pS6NST005_RUN001 path////K_SMARTBULK_pS6NST006_RUN001 path////K_SMARTBULK_pS6NST007_RUN001 path////K_SMARTBULK_pS6NST008_RUN001 path////K_SMARTBULK_pS6NST009_RUN001 path////K_SMARTBULK_pS6NST010_RUN001 path////K_SMARTBULK_pS6NST011_RUN001 path////K_SMARTBULK_pS6NST012_RUN001 path////K_SMARTBULK_pS6NST013_RUN001 path////K_SMARTBULK_pS6NST014_RUN001 path////K_SMARTBULK_pS6NST015_RUN001 path////K_SMARTBULK_pS6NST016_RUN001 path////K_SMARTBULK_pS6NST017_RUN001 path////K_SMARTBULK_pS6NST018_RUN001 path////K_SMARTBULK_pS6NST019_RUN001 path////K_SMARTBULK_pS6NST020_RUN001 path////K_SMARTBULK_pS6NST021_RUN001 path////K_SMARTBULK_pS6NST022_RUN001 path////K_SMARTBULK_pS6NST023_RUN001 path////K_SMARTBULK_pS6NST024_RUN001 path////K_SMARTBULK_pS6NST025_RUN001 path////K_SMARTBULK_pS6NST026_RUN001 path////K_SMARTBULK_pS6NST027_RUN001 path////K_SMARTBULK_pS6NST028_RUN001 path////K_SMARTBULK_pS6NST029_RUN001 path////K_SMARTBULK_pS6NST030_RUN001 path////K_SMARTBULK_pS6NST031_RUN001 path////K_SMARTBULK_pS6NST032_RUN001\n"
     ]
    }
   ],
   "source": [
    "metadata = '/Users/jackycheung/Desktop/Coursework/Computational_Genomics/COMS4761_Project/metadata.txt'\n",
    "mass_alignments(\"path///\", metadata, \"index_file\")"
   ]
  },
  {
   "cell_type": "code",
   "execution_count": null,
   "metadata": {
    "collapsed": true
   },
   "outputs": [],
   "source": []
  }
 ],
 "metadata": {
  "kernelspec": {
   "display_name": "Python 3",
   "language": "python",
   "name": "python3"
  },
  "language_info": {
   "codemirror_mode": {
    "name": "ipython",
    "version": 3
   },
   "file_extension": ".py",
   "mimetype": "text/x-python",
   "name": "python",
   "nbconvert_exporter": "python",
   "pygments_lexer": "ipython3",
   "version": "3.6.3"
  }
 },
 "nbformat": 4,
 "nbformat_minor": 2
}
